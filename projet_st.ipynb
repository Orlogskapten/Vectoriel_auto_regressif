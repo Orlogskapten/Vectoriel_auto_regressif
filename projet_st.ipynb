{
 "cells": [
  {
   "cell_type": "markdown",
   "metadata": {},
   "source": [
    "# Projet d'analyse de séries temporelles\n",
    "\n",
    "En colaboration avec :\n",
    "\n",
    "- [Paul Leydier](https://github.com/pleydier)\n",
    "\n",
    "- [Damien Raimond](https://github.com/dams-lab/)\n",
    "\n",
    "- [Wenceslas Sanchez](https://github.com/Orlogskapten)\n",
    "\n",
    "---\n",
    "\n",
    "Le but du projet est de:\n",
    "\n",
    "- développer (sans aucun package R) des outils permettant de modéliser un modèle VAR généralisé à l'ordre p\n",
    "\n",
    "- construire les fonctions de réponses aux chocs d'un modèle VAR d'ordre p\n",
    "\n",
    "- et d'appliquer tout cela à l'analyse des dépendances entre les économies chinoise, américaine et de la Zone Euro.\n",
    "\n",
    "Toutes les fonctions que nous avons développé sont généralisées pour l'ordre p, et sont commentées pour comprendre leurs inputs, et leur construction.\n",
    "\n",
    "---\n",
    "\n",
    "### Sommaire :\n",
    "\n",
    "[Question 1](#1)\n",
    "\n",
    "[Question 2](#2)\n",
    "\n",
    "[Question 3](#3)\n",
    "\n",
    "[Question 4](#4)\n",
    "\n",
    "[Annexes](#a)"
   ]
  },
  {
   "cell_type": "code",
   "execution_count": 1,
   "metadata": {
    "ExecuteTime": {
     "end_time": "2020-05-07T16:53:35.048691Z",
     "start_time": "2020-05-07T16:53:34.887Z"
    }
   },
   "outputs": [
    {
     "name": "stdout",
     "output_type": "stream",
     "text": [
      "'data.frame':\t96 obs. of  3 variables:\n",
      " $ China   : Factor w/ 49 levels \"10\",\"10.1\",\"10.2\",..: 7 45 44 4 2 1 39 39 30 26 ...\n",
      " $ USA     : Factor w/ 44 levels \"-2.8\",\"-3\",\"-3.3\",..: 23 35 36 39 38 38 41 40 43 36 ...\n",
      " $ Eurozone: Factor w/ 49 levels \"-0.4\",\"-0.5\",..: 23 26 29 30 31 36 38 44 47 41 ...\n"
     ]
    },
    {
     "data": {
      "text/html": [
       "<table>\n",
       "<thead><tr><th scope=col>China</th><th scope=col>USA</th><th scope=col>Eurozone</th></tr></thead>\n",
       "<tbody>\n",
       "\t<tr><td>0.109</td><td>0.026</td><td>0.012</td></tr>\n",
       "\t<tr><td>0.094</td><td>0.040</td><td>0.015</td></tr>\n",
       "\t<tr><td>0.092</td><td>0.041</td><td>0.018</td></tr>\n",
       "\t<tr><td>0.103</td><td>0.044</td><td>0.019</td></tr>\n",
       "\t<tr><td>0.101</td><td>0.043</td><td>0.020</td></tr>\n",
       "\t<tr><td>0.100</td><td>0.043</td><td>0.025</td></tr>\n",
       "</tbody>\n",
       "</table>\n"
      ],
      "text/latex": [
       "\\begin{tabular}{r|lll}\n",
       " China & USA & Eurozone\\\\\n",
       "\\hline\n",
       "\t 0.109 & 0.026 & 0.012\\\\\n",
       "\t 0.094 & 0.040 & 0.015\\\\\n",
       "\t 0.092 & 0.041 & 0.018\\\\\n",
       "\t 0.103 & 0.044 & 0.019\\\\\n",
       "\t 0.101 & 0.043 & 0.020\\\\\n",
       "\t 0.100 & 0.043 & 0.025\\\\\n",
       "\\end{tabular}\n"
      ],
      "text/markdown": [
       "\n",
       "| China | USA | Eurozone |\n",
       "|---|---|---|\n",
       "| 0.109 | 0.026 | 0.012 |\n",
       "| 0.094 | 0.040 | 0.015 |\n",
       "| 0.092 | 0.041 | 0.018 |\n",
       "| 0.103 | 0.044 | 0.019 |\n",
       "| 0.101 | 0.043 | 0.020 |\n",
       "| 0.100 | 0.043 | 0.025 |\n",
       "\n"
      ],
      "text/plain": [
       "  China USA   Eurozone\n",
       "1 0.109 0.026 0.012   \n",
       "2 0.094 0.040 0.015   \n",
       "3 0.092 0.041 0.018   \n",
       "4 0.103 0.044 0.019   \n",
       "5 0.101 0.043 0.020   \n",
       "6 0.100 0.043 0.025   "
      ]
     },
     "metadata": {},
     "output_type": "display_data"
    }
   ],
   "source": [
    "setwd(\"C:/Users/Wenceslas/Desktop/R/R_project/serie_temp/projet\")\n",
    "\n",
    "data= read.csv(\"Data.csv\", head= TRUE, sep= \";\", dec=\",\")\n",
    "dates= as.Date(data[, 1], format= \"%d.%m.%Y\")\n",
    "data[, 1] = NULL # on enleve les dates\n",
    "data[, 4] = NULL # on enleve la dernière colonne\n",
    "# On vérifie le typage\n",
    "str(data)\n",
    "# On a des factors au lieu de double\n",
    "# on change donc le typage factor -> double\n",
    "for (i in 1:3){\n",
    "    data[, i] = as.double(levels(data[, i]))[data[, i]] / 100 # on en profite pour diviser par 100\n",
    "}\n",
    "\n",
    "data_matrix= as.matrix(data)\n",
    "head(data)"
   ]
  },
  {
   "cell_type": "code",
   "execution_count": 2,
   "metadata": {
    "ExecuteTime": {
     "end_time": "2020-05-07T16:53:35.305521Z",
     "start_time": "2020-05-07T16:53:34.904Z"
    }
   },
   "outputs": [
    {
     "data": {
      "image/png": "[encoded data removed]",
      "text/plain": [
       "Plot with title \"Eurozone\""
      ]
     },
     "metadata": {},
     "output_type": "display_data"
    }
   ],
   "source": [
    "fig <- function(width, heigth){\n",
    "# Permet de définir la taille d'un plot\n",
    "# Equivalent à plt.figure(figsize= (width, heigth)) sur Python\n",
    "     options(repr.plot.width= width, repr.plot.height= heigth)\n",
    "}\n",
    "\n",
    "fig(5, 8)\n",
    "layout(matrix(1:3, 3, 1, byrow= T))\n",
    "\n",
    "col_named= colnames(data) # récupère le nom des pays\n",
    "for (i in 1:3){\n",
    "    plot(dates, data[, i]\n",
    "         , col= \"red\", main= col_named[i]\n",
    "         , ylab= \"\", xlab= \"Dates\", type= \"l\")\n",
    "    grid(col= \"grey\")\n",
    "}"
   ]
  },
  {
   "cell_type": "markdown",
   "metadata": {
    "ExecuteTime": {
     "end_time": "2020-04-23T14:37:17.262923Z",
     "start_time": "2020-04-23T14:37:17.190Z"
    }
   },
   "source": [
    "#### Remarque :\n",
    "\n",
    "Voici-ci ci-dessus les dynamiques de nos trois séries de taux de croissance. Premier fait, on remarque que les séries Eurozone et USA ont la même forme, mais pas la même amplitude. On a donc deux économies dont les taux de croissance réagissent de la même manière ; ci-dessous on peut voir une corrélation de près de 0.7 pour ces deux séries.\n",
    "\n",
    "Cela pourrait être important pour la suite de l'analyse, notamment pour comprendre la diffusion d'un choc d'un pays vers un autre."
   ]
  },
  {
   "cell_type": "code",
   "execution_count": 3,
   "metadata": {
    "ExecuteTime": {
     "end_time": "2020-05-07T16:53:35.353392Z",
     "start_time": "2020-05-07T16:53:34.910Z"
    }
   },
   "outputs": [
    {
     "name": "stdout",
     "output_type": "stream",
     "text": [
      "[1] \"Matrice de corrélation\"\n"
     ]
    },
    {
     "data": {
      "text/html": [
       "<table>\n",
       "<thead><tr><th></th><th scope=col>China</th><th scope=col>USA</th><th scope=col>Eurozone</th></tr></thead>\n",
       "<tbody>\n",
       "\t<tr><th scope=row>China</th><td>1.00000000</td><td>0.03359704</td><td>0.1648283 </td></tr>\n",
       "\t<tr><th scope=row>USA</th><td>0.03359704</td><td>1.00000000</td><td>0.7340869 </td></tr>\n",
       "\t<tr><th scope=row>Eurozone</th><td>0.16482825</td><td>0.73408690</td><td>1.0000000 </td></tr>\n",
       "</tbody>\n",
       "</table>\n"
      ],
      "text/latex": [
       "\\begin{tabular}{r|lll}\n",
       "  & China & USA & Eurozone\\\\\n",
       "\\hline\n",
       "\tChina & 1.00000000 & 0.03359704 & 0.1648283 \\\\\n",
       "\tUSA & 0.03359704 & 1.00000000 & 0.7340869 \\\\\n",
       "\tEurozone & 0.16482825 & 0.73408690 & 1.0000000 \\\\\n",
       "\\end{tabular}\n"
      ],
      "text/markdown": [
       "\n",
       "| <!--/--> | China | USA | Eurozone |\n",
       "|---|---|---|---|\n",
       "| China | 1.00000000 | 0.03359704 | 0.1648283  |\n",
       "| USA | 0.03359704 | 1.00000000 | 0.7340869  |\n",
       "| Eurozone | 0.16482825 | 0.73408690 | 1.0000000  |\n",
       "\n"
      ],
      "text/plain": [
       "         China      USA        Eurozone \n",
       "China    1.00000000 0.03359704 0.1648283\n",
       "USA      0.03359704 1.00000000 0.7340869\n",
       "Eurozone 0.16482825 0.73408690 1.0000000"
      ]
     },
     "metadata": {},
     "output_type": "display_data"
    }
   ],
   "source": [
    "print(\"Matrice de corrélation\")\n",
    "cor(data_matrix)"
   ]
  },
  {
   "cell_type": "markdown",
   "metadata": {},
   "source": [
    "Autre point, mise à part la période de 2008-2012, il semblerais que les Etats-Unis et la Zone Euro aient des taux de croissance plutot stable entre 0 et 2% (4% pour les Etats-Unis). Ce n'est pas sans rappeler les théories à propos de la stagnation séculaire, même si selon Summers et Gordon les taux de croissance dans une telle situation devraient être bien plus faible (~0.5%).\n",
    "\n",
    "Dernier point à propos de la Chine, depuis la crise de 2008 et sa reprise en 2011, on remarque une tendance à la baisse de son taux de croissance. En effet, il semblerait que les 10% de croissance annuel dont profitait jusque là la Chine soit une époque révolue, avec des taux qui pourraient converger vers ceux des pays développés (type Etats-Unis) d'ici quelques années. \n",
    "En effet, les taux de croissances exeptionnels de l'Empire du Milieu était dû à l'effet de rattrapage de son économie et la réduction de ses taux est probablement liée au fait que la Chine par rattraper les pays les plus développés."
   ]
  },
  {
   "cell_type": "markdown",
   "metadata": {},
   "source": [
    "<a id= \"1\"></a>\n",
    "\n",
    "### 1). Explain what a VAR model and an impulse response function is."
   ]
  },
  {
   "cell_type": "markdown",
   "metadata": {},
   "source": [
    "Le modèle VAR permet d’analyser des séries temporelles de manière multivariées, en étudiant les dépendances linéaires au sein de toutes les séries que l'on considère. Il se distingue d'un modèle AR par cet aspect multivarié.\n",
    "\n",
    "Pour expliquer une variable $X_t$, avec un modèle VAR d'ordre 1, nous allons utiliser la donnée de la période précédente telle que :\n",
    "\n",
    "$$VAR(1): X_t= \\phi_0 + \\phi_1X_{t-1} + \\epsilon_t$$\n",
    "avec :\n",
    "$$X_t= \\begin{pmatrix}\n",
    "chine\\_growth_t\\\\\n",
    "USA\\_growth_t\\\\\n",
    "Zone€\\_growth_t\n",
    "\\end{pmatrix}$$\n",
    "\n",
    "A l'ordre p on a:\n",
    "$$VAR(p): X_t= \\phi_0 + \\phi_1X_{t-1} + \\phi_2X_{t-2} + ... + \\phi_pX_{t-p} + \\epsilon_t$$\n",
    "C'est-à-dire qu'un VAR d'ordre p permet de considérer un lien entre nos données en t et les données observées jusqu'en t-p.\n",
    "\n",
    "Ce qu'il y a de magique avec un modèle VAR, c'est qu'on peut le transformer et faire disparaître les séries $X_{t-p}$ pour ne faire apparaître que les chocs. L'idée derrière cette transformation est de pouvoir expliquer les valeurs de $X_t$ en fonction des chocs passés. En économie, c'est un concept utile par exemple pour voir comment un choc de demande se propage à travers les séries de taux de croissance, taux d'intérêt et de taux de chômage ; car en économie les variables macroéconomiques ne sont que rarement indépendantes les unes des autres, et donc observer et comprendre l'impact d'un choc provenant d'une série sur les autres est essentiel.\n",
    "\n",
    "Dans notre projet, nous avons les taux de croissance de la Chine, des Etats-Unis et de la Zone Euro de 1996 à fin 2019. Avec la mondialisation, et les connexions de plus en plus grandes entres les économies, il est intéressant de voir comment un choc de croissance dans un pays, pourrait en atteindre un autre et surtout, pendant combien de temps. Ce n'est pas sans rappeler la situation actuelle et la crise mondiale du COVID qui touche toutes nos économies. Mais on aura l'occasion d'en parler plus longuement dans la dernière question."
   ]
  },
  {
   "cell_type": "markdown",
   "metadata": {},
   "source": [
    "Pour coder un VAR d'ordre p, il nous a fallu repenser la construction du dataset, et de son interaction avec les coefficients à optimiser.\n",
    "\n",
    "Imaginons que l'on doive construire un **VAR d'ordre 2**. Le dataset que nous devrions utiliser pour le construire ressemblerait à ceci :\n",
    "\n",
    "\n",
    "| t | Chine | USA | Zone€ | | t - 1 | Chine | USA | Zone€ | | t - 2 | Chine | USA | Zone€ |\n",
    "| --- | --- | --- | --- | | --- | --- | --- | --- | | --- | --- | --- | --- |\n",
    "| 1 | 0.109 | 0.026 | 0.012 | |  |  |  |  | |  |  |  |  |\n",
    "| 2 | 0.094 | 0.04 | 0.015 | | 1 | 0.109 | 0.026 | 0.012 | |  |  |  |\n",
    "| 3 | 0.092 | 0.041 | 0.018 | | 2 | 0.094 | 0.04 | 0.015 | | 1 | 0.109 | 0.026 | 0.012 |\n",
    "| 4 | 0.103 | 0.044 | 0.019 | | 3 | 0.092 | 0.041 | 0.018 | | 2 | 0.094 | 0.04 | 0.015 |\n",
    "| 5 |  |  |  | | 4 | 0.103 | 0.044 | 0.019 | | 3 | 0.092 | 0.041 | 0.018 | \n",
    "| 6 |  |  |  | | 5 |  |  |  | | 4 | 0.103 | 0.044 | 0.019 |\n",
    "\n",
    "\n",
    "avec notre première série $X_t$ à prédire, suivi des 2 autre séries nécessaires pour construire un VAR d'ordre 2. On se rend compte que les 2 premières lignes de $X_t$ ne sont pas observables si on souhaite construire ce VAR étant donné le vide des 2 premières lignes de la série $X_{t-2}$. Il faudra donc modéliser uniquement avec les observations à t = 3 et t = 4. Avec un ordre p, il faudrait alors modéliser sur m-p observations, avec m le nombre d'observation du dataset.\n",
    "\n",
    "On récupère chaque série lagguée indépendament, et on la multiple au set de coefficient $\\phi$ qui lui est associé pour pouvoir calculer la valeur de notre prédiction $\\tilde{X_t}$. Puis on calcule l'erreur de prédiction en redimensionnant bien $X_t$. Le but étant de minimiser l'erreur, on va chercher à maximiser la log vraisemblance en passant par une fonction de densité gaussienne multivariée pour chercher les bons paramètres $\\phi$.\n",
    "\n",
    "Dernier point, le set de paramètre $\\phi$ que l'on rentre initialement est généré aléatoirement ; il n'est pas égal à un vecteur constitué de 0. Cette solution permet, parfois, d'augmenter la vitesse de convergence de notre modèle, voire de le faire converger."
   ]
  },
  {
   "cell_type": "code",
   "execution_count": 4,
   "metadata": {
    "ExecuteTime": {
     "end_time": "2020-05-07T16:53:35.454124Z",
     "start_time": "2020-05-07T16:53:34.916Z"
    }
   },
   "outputs": [
    {
     "data": {
      "text/html": [
       "<table>\n",
       "<tbody>\n",
       "\t<tr><td>0.06348571</td></tr>\n",
       "</tbody>\n",
       "</table>\n"
      ],
      "text/latex": [
       "\\begin{tabular}{l}\n",
       "\t 0.06348571\\\\\n",
       "\\end{tabular}\n"
      ],
      "text/markdown": [
       "\n",
       "| 0.06348571 |\n",
       "\n"
      ],
      "text/plain": [
       "     [,1]      \n",
       "[1,] 0.06348571"
      ]
     },
     "metadata": {},
     "output_type": "display_data"
    }
   ],
   "source": [
    "mvnorm<-function(X,mu,sigma)\n",
    "{\n",
    "    # Permet de calculer la fonction densité\n",
    "        # X représente un vecteur 1xn\n",
    "        # Mu représente un vecteur 1xn\n",
    "        # Sigma une matrice nxn\n",
    "    A=(2*pi)^(ncol(sigma)/2)\n",
    "    B=det(sigma)^(1/2)\n",
    "    C=-1/2*t(X-mu)%*%solve(sigma)%*%(X-mu)\n",
    "    D=exp(C)\n",
    "    return(1/(A*B)*D)\n",
    "}\n",
    "\n",
    "# test\n",
    "mu= apply(data_matrix,2,mean)\n",
    "sigma= diag(3)\n",
    "mvnorm(data_matrix[2,],mu,sigma)"
   ]
  },
  {
   "cell_type": "code",
   "execution_count": 5,
   "metadata": {
    "ExecuteTime": {
     "end_time": "2020-05-07T16:53:35.561353Z",
     "start_time": "2020-05-07T16:53:34.921Z"
    }
   },
   "outputs": [
    {
     "data": {
      "text/html": [
       "<table>\n",
       "<tbody>\n",
       "\t<tr><td>239.9798</td></tr>\n",
       "</tbody>\n",
       "</table>\n"
      ],
      "text/latex": [
       "\\begin{tabular}{l}\n",
       "\t 239.9798\\\\\n",
       "\\end{tabular}\n"
      ],
      "text/markdown": [
       "\n",
       "| 239.9798 |\n",
       "\n"
      ],
      "text/plain": [
       "     [,1]    \n",
       "[1,] 239.9798"
      ]
     },
     "metadata": {},
     "output_type": "display_data"
    }
   ],
   "source": [
    "VAR_loglik_p<-function(para, vectored)\n",
    "{\n",
    "    # Permet de calculer la log vraisemblance d'un modèle VAR(p)\n",
    "        # para désigne un vecteur de (n + n*n*p) contenant les paramètres du modèle\n",
    "        # vectored correspond à un vecteur contenant le datatset, l'ordre du VAR, et les dimensions du datatset \n",
    "    \n",
    "    # Récupère l'information du vecteur\n",
    "    stocked= tail(vectored, 3)\n",
    "    p= stocked[3]\n",
    "    n= stocked[1]\n",
    "    m= stocked[2]\n",
    "    X= matrix(vectored[1: (length(vectored) - 3)], m, n )\n",
    "    \n",
    "    # Extraction des intercepts\n",
    "    phi_0= para[1:n]\n",
    "    # E désigne la valeur X calculée à l'aide du modèle \n",
    "    # On construit en amont E, ce qui nous permet d'ajouter les intercepts, et de bien définir\n",
    "    # sa dimension\n",
    "    E= matrix(phi_0, m-p, n, byrow= T)\n",
    "    \n",
    "    # Si l'ordre du VAR = 3, alors il y aura 3 matrices de dimension nxn\n",
    "    # On récupère par itération les coefficients qui sont associés à chaque matrice (en premier \n",
    "    # la matrice associée aux données avec le premier retard, puis le deuxième etc.)\n",
    "    for (i in 1:p){\n",
    "        # Récupère les coefficients de la matrice du retard i\n",
    "        phi_i= matrix(para[((n*n*i + n) -(n*n) + 1):(n*n*i + n)], n ,n)\n",
    "        # Pour la matrice phi_1, les coefficients phi1_11, phi1_12, phi_13 dans le cas d'une var\n",
    "        # avec 3 séries, ne seront pas en ligne comme dans une représentation matricielle\n",
    "        # mais seront stockés dans la première colonne !!\n",
    "\n",
    "#         E= E[-1,] + X[-c((m-i+1):m),]%*%phi_i # enlève le bas\n",
    "#         E= E[-dim(E)[1],] + X[-c((m-i+1):m),]%*%phi_i # enlève le bas\n",
    "        \n",
    "        # On fait le calcul phi_p . , mais comme les séries de X sont stockées en ligne\n",
    "        # et que les coefficients sont sotckés en colonne, on doit faire X . phi_p\n",
    "        # On enlève une partie de la matrice (le bas) qui dépend de l'ordre sur lequel on itère\n",
    "        # cf le markdown ?\n",
    "        phi_compute= X[-c((m-i+1):m),]%*%phi_i # enlève le bas de la matrice X pour associer les bons retards\n",
    "        \n",
    "        if (i == p){\n",
    "            E= E + phi_compute\n",
    "        }\n",
    "        else {\n",
    "            E= E + phi_compute[-c(1:(p-i)),] # enlève le haut pour que les retards fit bien avec E et X\n",
    "        }\n",
    "    }\n",
    "    \n",
    "    # Pour concorder avec le retard max (= ordre p), on doit se séparer des p premières lignes de X\n",
    "    residus= X[-c(1:p), ] - E\n",
    "    sigma= var(residus)\n",
    "    \n",
    "    log_lik= 0\n",
    "    \n",
    "    # Calcul de la log vraisemblance\n",
    "    # On commence la boucle à p+1 et non à 1 pour simplifier le raisonnement (permet de\n",
    "    # sélectionner les données X à partir de i)\n",
    "    # Mais on aurait pu commencer à 1 et on aurait modifier l'indice dans X et E\n",
    "    for (i in (1+p):m){\n",
    "        temp= mvnorm(X[i, ], E[(i-p),], sigma) # E est pris à partir de p car j'ai enlevé p lignes\n",
    "                                                # dans le processus précédent\n",
    "        temp= log(temp)\n",
    "        log_lik= log_lik - temp\n",
    "    }\n",
    "    \n",
    "    return(log_lik)\n",
    "}\n",
    "\n",
    "# test\n",
    "n= ncol(data_matrix)\n",
    "p_order= 2 # ordre 2\n",
    "\n",
    "VAR_loglik_p(numeric(n + n*n*p_order)\n",
    "             , c(data_matrix, n, nrow(data_matrix), p_order))"
   ]
  },
  {
   "cell_type": "code",
   "execution_count": 6,
   "metadata": {
    "ExecuteTime": {
     "end_time": "2020-05-07T16:53:57.523517Z",
     "start_time": "2020-05-07T16:53:34.924Z"
    }
   },
   "outputs": [
    {
     "name": "stdout",
     "output_type": "stream",
     "text": [
      "[1] \"Initialization with random parameters\"\n"
     ]
    },
    {
     "data": {
      "text/html": [
       "<dl>\n",
       "\t<dt>$par</dt>\n",
       "\t\t<dd><ol class=list-inline>\n",
       "\t<li>0.0112488234888749</li>\n",
       "\t<li>0.00682539816717896</li>\n",
       "\t<li>0.000407469798377805</li>\n",
       "\t<li>0.899105450396502</li>\n",
       "\t<li>-0.0154554912769763</li>\n",
       "\t<li>0.0490498896407042</li>\n",
       "\t<li>0.0821082537701451</li>\n",
       "\t<li>1.01753070654231</li>\n",
       "\t<li>0.287610795176033</li>\n",
       "\t<li>0.142528828361921</li>\n",
       "\t<li>0.402655130170542</li>\n",
       "\t<li>1.20370194787024</li>\n",
       "\t<li>-0.00590625043464517</li>\n",
       "\t<li>-0.02288873137995</li>\n",
       "\t<li>-0.117092956471228</li>\n",
       "\t<li>-0.117124141311557</li>\n",
       "\t<li>-0.13623579600841</li>\n",
       "\t<li>-0.341740042488185</li>\n",
       "\t<li>-0.143498162844475</li>\n",
       "\t<li>-0.288911016449047</li>\n",
       "\t<li>-0.401490405052298</li>\n",
       "</ol>\n",
       "</dd>\n",
       "\t<dt>$value</dt>\n",
       "\t\t<dd>-1014.17578372069</dd>\n",
       "\t<dt>$counts</dt>\n",
       "\t\t<dd><dl class=dl-horizontal>\n",
       "\t<dt>function</dt>\n",
       "\t\t<dd>265</dd>\n",
       "\t<dt>gradient</dt>\n",
       "\t\t<dd>68</dd>\n",
       "</dl>\n",
       "</dd>\n",
       "\t<dt>$convergence</dt>\n",
       "\t\t<dd>0</dd>\n",
       "\t<dt>$message</dt>\n",
       "\t\t<dd>NULL</dd>\n",
       "</dl>\n"
      ],
      "text/latex": [
       "\\begin{description}\n",
       "\\item[\\$par] \\begin{enumerate*}\n",
       "\\item 0.0112488234888749\n",
       "\\item 0.00682539816717896\n",
       "\\item 0.000407469798377805\n",
       "\\item 0.899105450396502\n",
       "\\item -0.0154554912769763\n",
       "\\item 0.0490498896407042\n",
       "\\item 0.0821082537701451\n",
       "\\item 1.01753070654231\n",
       "\\item 0.287610795176033\n",
       "\\item 0.142528828361921\n",
       "\\item 0.402655130170542\n",
       "\\item 1.20370194787024\n",
       "\\item -0.00590625043464517\n",
       "\\item -0.02288873137995\n",
       "\\item -0.117092956471228\n",
       "\\item -0.117124141311557\n",
       "\\item -0.13623579600841\n",
       "\\item -0.341740042488185\n",
       "\\item -0.143498162844475\n",
       "\\item -0.288911016449047\n",
       "\\item -0.401490405052298\n",
       "\\end{enumerate*}\n",
       "\n",
       "\\item[\\$value] -1014.17578372069\n",
       "\\item[\\$counts] \\begin{description*}\n",
       "\\item[function] 265\n",
       "\\item[gradient] 68\n",
       "\\end{description*}\n",
       "\n",
       "\\item[\\$convergence] 0\n",
       "\\item[\\$message] NULL\n",
       "\\end{description}\n"
      ],
      "text/markdown": [
       "$par\n",
       ":   1. 0.0112488234888749\n",
       "2. 0.00682539816717896\n",
       "3. 0.000407469798377805\n",
       "4. 0.899105450396502\n",
       "5. -0.0154554912769763\n",
       "6. 0.0490498896407042\n",
       "7. 0.0821082537701451\n",
       "8. 1.01753070654231\n",
       "9. 0.287610795176033\n",
       "10. 0.142528828361921\n",
       "11. 0.402655130170542\n",
       "12. 1.20370194787024\n",
       "13. -0.00590625043464517\n",
       "14. -0.02288873137995\n",
       "15. -0.117092956471228\n",
       "16. -0.117124141311557\n",
       "17. -0.13623579600841\n",
       "18. -0.341740042488185\n",
       "19. -0.143498162844475\n",
       "20. -0.288911016449047\n",
       "21. -0.401490405052298\n",
       "\n",
       "\n",
       "\n",
       "$value\n",
       ":   -1014.17578372069\n",
       "$counts\n",
       ":   function\n",
       ":   265gradient\n",
       ":   68\n",
       "\n",
       "\n",
       "$convergence\n",
       ":   0\n",
       "$message\n",
       ":   NULL\n",
       "\n",
       "\n"
      ],
      "text/plain": [
       "$par\n",
       " [1]  0.0112488235  0.0068253982  0.0004074698  0.8991054504 -0.0154554913\n",
       " [6]  0.0490498896  0.0821082538  1.0175307065  0.2876107952  0.1425288284\n",
       "[11]  0.4026551302  1.2037019479 -0.0059062504 -0.0228887314 -0.1170929565\n",
       "[16] -0.1171241413 -0.1362357960 -0.3417400425 -0.1434981628 -0.2889110164\n",
       "[21] -0.4014904051\n",
       "\n",
       "$value\n",
       "[1] -1014.176\n",
       "\n",
       "$counts\n",
       "function gradient \n",
       "     265       68 \n",
       "\n",
       "$convergence\n",
       "[1] 0\n",
       "\n",
       "$message\n",
       "NULL\n"
      ]
     },
     "metadata": {},
     "output_type": "display_data"
    }
   ],
   "source": [
    "# Optimisation test pour VAR(2)\n",
    "n= ncol(data_matrix)\n",
    "p_order= 2 # VAR d'ordre 2\n",
    "\n",
    "estimation_auto= function(X= data_matrix, p= p_order, num= n){\n",
    "    # Permet de sortir les résultats de l'optim (neg log vraissemblance et coef)\n",
    "        # X désigne le dataset\n",
    "        # p l'ordre de la VAR à calculer\n",
    "        # n le nombre de série du VAR\n",
    "    \n",
    "    # On utilise dans un premier temps des poids aléatoires compris entre 0 et 1\n",
    "    # mais si on a un soucis on utilise un set de paramètres avec que des 0\n",
    "    # (dans notre cas, on a parfois eu des problèmes)\n",
    "    tryCatch({\n",
    "    weight= round(runif(num + num*num*p, 0, 1), 1)\n",
    "    para= weight/sum(weight) # permet de ne pas faire bugger l'optim\n",
    "        \n",
    "    estimation= optim(para, fn= VAR_loglik_p\n",
    "                  , vectored= c(X, ncol(X), nrow(X), p)\n",
    "                  , method= \"BFGS\")\n",
    "    print(\"Initialization with random parameters\")\n",
    "        \n",
    "    return (estimation)\n",
    "    }, error= function(e) # au cas où\n",
    "            {\n",
    "            # Set de paramètres 0\n",
    "            para= numeric(num + num*num*p) \n",
    "            estimation= optim(para, fn= VAR_loglik_p\n",
    "                  , vectored= c(X, ncol(X), nrow(X), p)\n",
    "                  , method= \"BFGS\")\n",
    "            print(\"Initialization with zero values for parameters\")\n",
    "    return (estimation)\n",
    "            })\n",
    "}\n",
    "\n",
    "# test\n",
    "estimation_auto(X= data_matrix, p= p_order, num= n)"
   ]
  },
  {
   "cell_type": "markdown",
   "metadata": {},
   "source": [
    "<a id= \"2\"></a>\n",
    "\n",
    "### 2). Using information criterions, estimate the lag to be used with the three data series for your VAR model. What do you think of this lag?"
   ]
  },
  {
   "cell_type": "markdown",
   "metadata": {},
   "source": [
    "Comme il est possible de générer p VAR, il nous faut déterminer l'ordre qui est le plus intéressant pour  modéliser notre série de données. Dans ce but, nous allons utiliser les fonctions précédentes pour construire tous les modèles VAR de l'ordre 1 à 10. \n",
    "Pour comparer tous ces modèles, nous allons utiliser des critères d'informations (AIC, BIC et HQ), qui permettent de prendre en compte à la fois la performance d'un modèle (la valeur de la log vraisemblance) mais aussi sa complexité (le nombre de paramètres). En effet, il est très simple d'avoir une bonne log vraisemblance en augmentant le nombre de paramètres. Mais le modèle devient trop spécifique à notre jeu de données.\n",
    "Dans le cas d'un VAR, si on prend un ordre très élevé, le nombre de paramètres sera alors plus grand qu'avec un VAR d'ordre 1. En effet, si n représente le nombre de séries, le nombre de paramètres d'un VAR d'ordre p sera alors de $n*n*p + n$.\n",
    "\n",
    "En cherchant à minimiser les critères d'informations, on trouve le modèle qui a un bon équilibre entre performance et complexité. \n",
    "\n",
    "Dans notre cas, on a représenté la valeur de ces critères dans le tableau ci-dessous."
   ]
  },
  {
   "cell_type": "code",
   "execution_count": 7,
   "metadata": {
    "ExecuteTime": {
     "end_time": "2020-05-07T17:03:33.927766Z",
     "start_time": "2020-05-07T16:53:34.928Z"
    }
   },
   "outputs": [
    {
     "name": "stdout",
     "output_type": "stream",
     "text": [
      "[1] \"Initialization with random parameters\"\n",
      "[1] \"Initialization with random parameters\"\n",
      "[1] \"Initialization with random parameters\"\n",
      "[1] \"Initialization with random parameters\"\n",
      "[1] \"Initialization with random parameters\"\n",
      "[1] \"Initialization with random parameters\"\n",
      "[1] \"Initialization with random parameters\"\n",
      "[1] \"Initialization with random parameters\"\n",
      "[1] \"Initialization with random parameters\"\n",
      "[1] \"Initialization with random parameters\"\n"
     ]
    }
   ],
   "source": [
    "# On va chercher à savoir l'ordre du VAR que nous devons choisir\n",
    "cb_de_var= 10\n",
    "\n",
    "formule_generale= function(p, log_lik, n, m, g){\n",
    "    # Permet de calculer tous les critères d'informations en fonction de g\n",
    "        # P désigne l'ordre du VAR\n",
    "        # log_lik désigne la log vraisemblance du modèle calculée\n",
    "        # n le nombre de séries (permet de calculer le nombre de paramètres du modèle)\n",
    "        # m le nombre d'observations\n",
    "        # g correspond à la fonction d'information sélectionnée\n",
    "    base= -(2*log(log_lik))\n",
    "    k= n + n*n*p # nombre de param\n",
    "    return (base + (k*g))\n",
    "}\n",
    "\n",
    "bic_g= function(m){\n",
    "    # Permet de calculer la fonction g pour le critère BIC\n",
    "    return (log(m))\n",
    "}\n",
    "\n",
    "hq_g= function(m){\n",
    "    # Permet de calculer la fonction g pour le critère HQ\n",
    "    return (log(bic_g(m)))\n",
    "}\n",
    "\n",
    "# Préparation\n",
    "n= ncol(data_matrix)\n",
    "order_var= c(1:cb_de_var)\n",
    "aic= c()\n",
    "bic= c()\n",
    "hq= c()\n",
    "# On va itérer sur tous les ordres p sélectionnés et calculer les critères d'informations\n",
    "for (i in order_var){\n",
    "\n",
    "    m_in= nrow(data_matrix) - i # à chaque ordre p, le dataset diminue de - p\n",
    "    estimated= estimation_auto(X= data_matrix, p= i, num= n)\n",
    "    log_like_estimated_i=  -1*estimated$value # la valeur sortie est la negative log likelihood\n",
    "                                            # donc on multiplie par -1\n",
    "    aic= c(aic, formule_generale(i, log_like_estimated_i, n, m_in, g= 2))\n",
    "    bic= c(bic, formule_generale(i, log_like_estimated_i, n, m_in, g= bic_g(m_in)))\n",
    "    hq= c(hq, formule_generale(i, log_like_estimated_i, n, m_in, g= hq_g(m_in)))\n",
    "}"
   ]
  },
  {
   "cell_type": "code",
   "execution_count": 8,
   "metadata": {
    "ExecuteTime": {
     "end_time": "2020-05-07T17:03:33.995586Z",
     "start_time": "2020-05-07T16:53:34.932Z"
    }
   },
   "outputs": [
    {
     "data": {
      "text/html": [
       "<table>\n",
       "<thead><tr><th scope=col>p_order</th><th scope=col>AIC</th><th scope=col>BIC</th><th scope=col>HQ</th></tr></thead>\n",
       "<tbody>\n",
       "\t<tr><td> 1        </td><td> 10.20451 </td><td> 40.85103 </td><td>  4.396259</td></tr>\n",
       "\t<tr><td> 2        </td><td> 28.15634 </td><td> 81.56553 </td><td> 17.943039</td></tr>\n",
       "\t<tr><td> 3        </td><td> 46.16535 </td><td>122.14333 </td><td> 31.504218</td></tr>\n",
       "\t<tr><td> 4        </td><td> 64.17198 </td><td>162.52173 </td><td> 45.019376</td></tr>\n",
       "\t<tr><td> 5        </td><td> 82.17881 </td><td>202.70007 </td><td> 58.490222</td></tr>\n",
       "\t<tr><td> 6        </td><td>100.18565 </td><td>242.67480 </td><td> 71.915647</td></tr>\n",
       "\t<tr><td> 7        </td><td>118.19981 </td><td>282.44981 </td><td> 85.302036</td></tr>\n",
       "\t<tr><td> 8        </td><td>136.19667 </td><td>321.99694 </td><td> 98.623805</td></tr>\n",
       "\t<tr><td> 9        </td><td>154.17525 </td><td>361.31153 </td><td>111.878950</td></tr>\n",
       "\t<tr><td>10        </td><td>172.18117 </td><td>400.43546 </td><td>125.112056</td></tr>\n",
       "</tbody>\n",
       "</table>\n"
      ],
      "text/latex": [
       "\\begin{tabular}{r|llll}\n",
       " p\\_order & AIC & BIC & HQ\\\\\n",
       "\\hline\n",
       "\t  1         &  10.20451  &  40.85103  &   4.396259\\\\\n",
       "\t  2         &  28.15634  &  81.56553  &  17.943039\\\\\n",
       "\t  3         &  46.16535  & 122.14333  &  31.504218\\\\\n",
       "\t  4         &  64.17198  & 162.52173  &  45.019376\\\\\n",
       "\t  5         &  82.17881  & 202.70007  &  58.490222\\\\\n",
       "\t  6         & 100.18565  & 242.67480  &  71.915647\\\\\n",
       "\t  7         & 118.19981  & 282.44981  &  85.302036\\\\\n",
       "\t  8         & 136.19667  & 321.99694  &  98.623805\\\\\n",
       "\t  9         & 154.17525  & 361.31153  & 111.878950\\\\\n",
       "\t 10         & 172.18117  & 400.43546  & 125.112056\\\\\n",
       "\\end{tabular}\n"
      ],
      "text/markdown": [
       "\n",
       "| p_order | AIC | BIC | HQ |\n",
       "|---|---|---|---|\n",
       "|  1         |  10.20451  |  40.85103  |   4.396259 |\n",
       "|  2         |  28.15634  |  81.56553  |  17.943039 |\n",
       "|  3         |  46.16535  | 122.14333  |  31.504218 |\n",
       "|  4         |  64.17198  | 162.52173  |  45.019376 |\n",
       "|  5         |  82.17881  | 202.70007  |  58.490222 |\n",
       "|  6         | 100.18565  | 242.67480  |  71.915647 |\n",
       "|  7         | 118.19981  | 282.44981  |  85.302036 |\n",
       "|  8         | 136.19667  | 321.99694  |  98.623805 |\n",
       "|  9         | 154.17525  | 361.31153  | 111.878950 |\n",
       "| 10         | 172.18117  | 400.43546  | 125.112056 |\n",
       "\n"
      ],
      "text/plain": [
       "   p_order AIC       BIC       HQ        \n",
       "1   1       10.20451  40.85103   4.396259\n",
       "2   2       28.15634  81.56553  17.943039\n",
       "3   3       46.16535 122.14333  31.504218\n",
       "4   4       64.17198 162.52173  45.019376\n",
       "5   5       82.17881 202.70007  58.490222\n",
       "6   6      100.18565 242.67480  71.915647\n",
       "7   7      118.19981 282.44981  85.302036\n",
       "8   8      136.19667 321.99694  98.623805\n",
       "9   9      154.17525 361.31153 111.878950\n",
       "10 10      172.18117 400.43546 125.112056"
      ]
     },
     "metadata": {},
     "output_type": "display_data"
    }
   ],
   "source": [
    "# Construction du dataset pour représenter la valeur des critères en fonction de l'ordre\n",
    "df_which_order= data.frame(p_order= order_var\n",
    "                          , AIC= aic\n",
    "                          , BIC= bic\n",
    "                          , HQ= hq)\n",
    "df_which_order"
   ]
  },
  {
   "cell_type": "markdown",
   "metadata": {},
   "source": [
    "Pour rappel, le meilleur des modèles est celui qui a le critère le plus faible. Dans notre cas, nous avons de la chance car tous les critères nous ramènent à la même conclusion : le modèle VAR d'ordre 1 est le meilleur.\n",
    "C'est à dire qu'un lag de 1 nous permet au mieux de modéliser $X_t$.\n",
    "\n",
    "On doit vous avouer qu'on s'attendait à obtenir un lag de 2 ou de 4, étant donné la nature de nos séries. En effet, nous avons à modèliser des taux de croissance de pays ; il est probable que le taux de croissance du premier trimestre impacte celui du troisième. \n",
    "Aussi, on pensait que chacune des séries étaient autocorrélées sur plusieurs périodes (6 mois voire 1 an). Et quand on trace notre autocorrélogramme, pour chaque série séparément, on se rend compte que c'est bien le cas : on observe de fortes autocorrélations, significative jusqu'à 5 périodes, c'est à dire 1 an et 1 trimestre.\n",
    "\n",
    "En se renseignant un peu [_$^{1}$_](https://stats.stackexchange.com/questions/207156/autocorrelation-of-var-residuals) , on s'est rendu compte que les critères d'informations ne cherchent pas à minimiser l'autocorrélation ; ils déterminent le modèle qui décrit bien nos données, mais pas un modèle qui les décrit parfaitement. Dans notre cas, il est probable que chercher à supprimer l'autocorrélation passe par une trop forte hausse de la complexité. C'est pourquoi les critères nous amènent à considérer le plus petit des ordres pour le modèle.\n",
    "\n",
    "Par conséquent, si notre but est de générer un modèle pour faire de la prédiction, un lag de 1 est parfait car c'est le modèle qui nous permet au mieux de gérer performance et overfitting. Mais si notre but est d'expliquer, et que l'autocorrélation est un problème pour notre analyse économique, alors il faudrait choisir un autre moyen pour sélectionner le bon ordre pour un VAR.\n",
    "\n",
    "Pour la suite du projet, on construira un VAR d'ordre 1 (c'est à dire que l'on suit les indications des critères d'informations).\n",
    "\n",
    "---\n",
    "$^{1}$[Stats StackExchange](https://stats.stackexchange.com/questions/207156/autocorrelation-of-var-residuals)"
   ]
  },
  {
   "cell_type": "markdown",
   "metadata": {},
   "source": [
    "<a id= \"3\"></a>\n",
    "\n",
    "### 3). Simulate impact"
   ]
  },
  {
   "cell_type": "markdown",
   "metadata": {},
   "source": [
    "Même si nous allons simuler l'impact de taux de croissance négatifs avec un VAR d'ordre 1, nous avons cherché à généraliser nos fonctions à tous les VAR possibles.\n",
    "\n",
    "Le problème, c'est que plus on modèlise de lag, plus la construction d'une fonction de réponse généralisée se complexifie. En effet, on pourrait imaginer des chocs différents sur plusieurs périodes comme par exemple au premier et au dernier trimestre. Dans notre cas, vu que le choc n'arrive qu'en t, nous n'avons pas besoin d'aller aussi loin dans la construction, mais nous avons quand même proposé une solution à ce problème.\n",
    "\n",
    "La solution que nous avons trouvé est de tranformer n'importe quel VAR p en un VAR d'ordre 1. Voici comment se présente notre transformation :\n",
    "Si on a $X_t$ nos n séries de données, $\\phi_p$ notre matrice de coefficients associée aux séries lagguées à p périodes et $\\epsilon_t$ le vecteur d'erreur de prédiction, exprimés comme suit:\n",
    "\n",
    "$$X_t= \\begin{pmatrix}\n",
    "chine\\_growth_t\\\\\n",
    "USA\\_growth_t\\\\\n",
    "Zone€\\_growth_t\n",
    "\\end{pmatrix}$$\n",
    "et\n",
    "$$\\phi_{p}=\\begin{pmatrix}\n",
    "\\phi_{1,1,p}&\\phi_{1,2,p}&...&\\phi_{1,n,p}\\\\\n",
    "\\phi_{2,1,p}&\\phi_{2,2,p}&...&\\phi_{2,n,p}\\\\\n",
    "...&...&...&...\\\\\n",
    "\\phi_{n,1,p}&...&...&\\phi_{n,n,p}\n",
    "\\end{pmatrix}$$\n",
    "et\n",
    "$$\\epsilon_{t}=\\begin{pmatrix}\n",
    "\\epsilon_{chine_t}\\\\\n",
    "\\epsilon_{usa_t}\\\\\n",
    "\\epsilon_{zone€_t}\n",
    "\\end{pmatrix}$$\n",
    "$$$$\n",
    "alors notre représentation d'un VAR p en VAR 1 se fait de la manière suivante:\n",
    "$$$$\n",
    "$$\\begin{pmatrix}\n",
    "X_t\\\\\n",
    "X_{t-1}\\\\\n",
    "...\\\\\n",
    "...\\\\\n",
    "X_{t-p+1}\n",
    "\\end{pmatrix}\n",
    "=\\begin{pmatrix}\n",
    "\\phi_{1}&\\phi_{2}&...&...&...&\\phi_{p}\\\\\n",
    "1\\\\\n",
    "0&1&...\\\\\n",
    "...\\\\\n",
    "0&...&...&1&...&0\n",
    "\\end{pmatrix}\n",
    "\\begin{pmatrix}\n",
    "X_{t-1}\\\\\n",
    "X_{t-2}\\\\\n",
    "...\\\\\n",
    "...\\\\\n",
    "X_{t-p}\n",
    "\\end{pmatrix}\n",
    "+\\begin{pmatrix}\n",
    "\\epsilon{t}\\\\\n",
    "0\\\\\n",
    "...\\\\\n",
    "...\\\\\n",
    "0\n",
    "\\end{pmatrix}$$\n",
    "$$$$\n",
    "Etant donné que l'on sait construire la fonction de réponse généralisée à partir d'une matrice $phi_1$ dans le cas d'un VAR 1, on peut généraliser sa construction avec cette matrice (ci-dessus). Avec cette construction on pourra alors simuler des chocs sur plusieurs périodes à la fois. On a donc développé cette manière d'exprimer un VAR d'ordre p. Néanmoins, nous n'avons pas fait en sorte de pouvoir générer des chocs sur plus d'une période. Ainsi, pour construire la fonction de réponse, nous avons uniquement utilisé $\\phi_1$ étant donné que le choc apparaît à la première période."
   ]
  },
  {
   "cell_type": "code",
   "execution_count": 9,
   "metadata": {
    "ExecuteTime": {
     "end_time": "2020-05-07T17:03:34.033487Z",
     "start_time": "2020-05-07T16:53:34.944Z"
    }
   },
   "outputs": [],
   "source": [
    "# le but est de construire une matrice tel que en colonne on a\n",
    "# Calculer l'impact d'un choc avec un VAR p est compliqué\n",
    "# On va chercher à transformer notre VAR p en un VAR 1\n",
    "\n",
    "transformation_Xt_varp= function(X, p_order){\n",
    "    # Permet de transformer le dataset initial pour permettre la permutation d'un VAR p à un VAR 1\n",
    "        # X désigne notre dataset\n",
    "        # p_ordre désigne l'ordre du VAR\n",
    "    n= ncol(X)\n",
    "    m= nrow(X)\n",
    "    \n",
    "    # Si on a un VAR 1, alors on ne change pas notre dataset\n",
    "    if (p_order == 1){\n",
    "        return (X)\n",
    "    }\n",
    "    else {\n",
    "        tested= X\n",
    "        stocked= X[-c((m-p_order+1):m), ] # série initiale Xt\n",
    "        # Le but est de pouvoir coller les séries de données Xt, Xt-1, ... , Xt-p\n",
    "        # On a donc un dataset de dimension (m-p)x(n*p)\n",
    "        for (i in c(1:p_order)){\n",
    "            tested_copy= tested[-c(1:i), ]\n",
    "            ajout_p_col= tested_copy[-c((m-p_order+1):m), ]\n",
    "            \n",
    "            stocked= cbind(ajout_p_col, stocked)\n",
    "        }\n",
    "        return(stocked)\n",
    "    } \n",
    "}\n",
    "\n",
    "# # Test\n",
    "# p_order= 4\n",
    "# test= transformation_Xt_varp(data_matrix, p_order)\n",
    "# head(test)"
   ]
  },
  {
   "cell_type": "code",
   "execution_count": 10,
   "metadata": {
    "ExecuteTime": {
     "end_time": "2020-05-07T17:03:34.078880Z",
     "start_time": "2020-05-07T16:53:34.948Z"
    }
   },
   "outputs": [],
   "source": [
    "phi_zero_compute= function(X, p_order){\n",
    "    # Permet de sortir la matrice d'intercept\n",
    "    n= ncol(X)\n",
    "    m= nrow(X)\n",
    "\n",
    "    estimation_good_var= estimation_auto(X= X, p= p_order, num= n)\n",
    "    para= estimation_good_var$par\n",
    "    phi_zero= para[1:n]\n",
    "    \n",
    "    return (phi_zero)\n",
    "}\n",
    "\n",
    "\n",
    "phi_transforma= function(X, p_order){\n",
    "    # Permet d'assembler toutes les matrices phi qui nous permettent la transformation VAR p -> VAR 1  \n",
    "    n= ncol(X)\n",
    "    m= nrow(X)\n",
    "\n",
    "    estimation_good_var= estimation_auto(X= X, p= p_order, num= n)\n",
    "    para= estimation_good_var$par\n",
    "    \n",
    "    # On ne fait pas de transformation si on a un VAR d'ordre 1\n",
    "    # On retourne uniquement les paramètres\n",
    "    if (p_order == 1){\n",
    "        phi_uno= matrix(para[(n+1):length(para)],n,n)\n",
    "        return (phi_uno)\n",
    "    }\n",
    "    else {\n",
    "        # Assemblage des coefficients\n",
    "        # On va stack de manière horizontale les matrices de coef phi 1 à phi p\n",
    "        stock_phi= matrix(numeric(n*n), n, n)\n",
    "        for (i in 1:p_order){\n",
    "            phi_i= matrix(para[((n*n*i + n) -(n*n) + 1):(n*n*i + n)], n ,n)\n",
    "            stock_phi= rbind(stock_phi, phi_i)\n",
    "        }\n",
    "\n",
    "        stock_phi= stock_phi[-c(1:n), ]\n",
    "        # On va combler les trous pour fiter notre matrice de coef aux nouveaux set données\n",
    "        # calculé transformation_Xt_varp\n",
    "        # La matrice de coef sera de dimension (n*p)x(n*p)\n",
    "        dim_n_p= n*p_order\n",
    "        identity_mat= diag(dim_n_p-n) # permet lors du calcul X . phi d'afficher\n",
    "        # Xt-1 = Xt-1 , Xt-2 = Xt-2\n",
    "        zero_mat_ligne= matrix(numeric((dim_n_p - n)*n), n, (dim_n_p - n))\n",
    "\n",
    "        stock_phi= cbind(stock_phi, rbind(identity_mat, zero_mat_ligne))\n",
    "\n",
    "        return (stock_phi)\n",
    "    }\n",
    "}\n",
    "\n",
    "phi_zero_transforma= function(X, p_order){\n",
    "    # Permet de redéfinir la matrice phi 0 (intercept) avec le dataset de transformation_Xt_varp\n",
    "        # X correspond au dataset (dimention m*n)\n",
    "        # p_order correspond à l'odre du VAR\n",
    "    \n",
    "    # Cas particulier dans le cas d'un VAR 1, on ne fait pas de transformation\n",
    "    if (p_order == 1){\n",
    "        return (phi_zero_compute(X, 1))\n",
    "    }\n",
    "    else {\n",
    "        phi_zero= phi_zero_compute(X, p_order)\n",
    "        phi_matrice= phi_transforma(X, p_order)\n",
    "        diff_dim_col= ncol(phi_matrice) - length(phi_zero)\n",
    "        # On comble la matrice avec des 0 à gauche\n",
    "        zero_comble= matrix(numeric((diff_dim_col*nrow(phi_matrice)))\n",
    "                                     , nrow(phi_matrice), diff_dim_col)\n",
    "        \n",
    "        phi_zero_new= cbind(matrix(phi_zero, nrow(phi_matrice), length(phi_zero), byrow= T)\n",
    "                            , zero_comble)\n",
    "        \n",
    "        return (phi_zero_new)\n",
    "\n",
    "    }\n",
    "}\n",
    "\n",
    "# # test\n",
    "# p_order= 2\n",
    "# phi_transforma(data_matrix, p_order)"
   ]
  },
  {
   "cell_type": "code",
   "execution_count": 11,
   "metadata": {
    "ExecuteTime": {
     "end_time": "2020-05-07T17:03:34.117774Z",
     "start_time": "2020-05-07T16:53:34.953Z"
    },
    "scrolled": true
   },
   "outputs": [],
   "source": [
    "error_transformation= function(X, p_order, stock_phi, phi_zero){\n",
    "    # Permet de calculer l'erreur. Cette fonction permet de prendre en considération\n",
    "    # la structure du dataset d'un VAR p\n",
    "    n= ncol(data_matrix)\n",
    "    m= nrow(data_matrix)\n",
    "    dim_n_p= n*p_order\n",
    "    \n",
    "    if (p_order == 1){\n",
    "        calcul_value= X[1:(m-1), ]%*%stock_phi + matrix(phi_zero, (m-1), n, byrow= T)\n",
    "        errors= X[-1, ] - calcul_value\n",
    "        \n",
    "        return (errors)\n",
    "    }\n",
    "    else {\n",
    "        test= transformation_Xt_varp(X, p_order)\n",
    "        # enlève les 3 première colonnes qui sont t et pas t-1\n",
    "        train= test[, -c(1:n)]\n",
    "        # on a enlevé la dernière pour avoir t à t -p +1\n",
    "        true_vals= test[, -c((dim_n_p + 1):(dim_n_p + n))]\n",
    "        \n",
    "        calcul_value= train%*%stock_phi + matrix(phi_zero[1, ]\n",
    "                                                 , nrow(train), ncol(phi_zero), byrow= T)\n",
    "\n",
    "        # on calcule l'erreur\n",
    "        errors= true_vals - calcul_value\n",
    "\n",
    "        return (errors)\n",
    "    }\n",
    "    \n",
    "}\n",
    "\n",
    "# # test\n",
    "# p_order= 1\n",
    "# stock_test_phi= phi_transforma(data_matrix, p_order)\n",
    "# phi_zero= phi_zero_transforma(data_matrix, p_order)\n",
    "# head(error_transformation(data_matrix, p_order, stock_test_phi, phi_zero))"
   ]
  },
  {
   "cell_type": "code",
   "execution_count": 12,
   "metadata": {
    "ExecuteTime": {
     "end_time": "2020-05-07T17:03:34.153681Z",
     "start_time": "2020-05-07T16:53:34.956Z"
    }
   },
   "outputs": [],
   "source": [
    "compute_choleski_p= function(X, error, p_order){\n",
    "    # Permet de récupérer la matrice triangulaire selon la factorisation de choleski\n",
    "        # X désigne le dataset\n",
    "        # error désigne la matrice d'erreur\n",
    "        # p_order désigne l'ordure du VAR\n",
    "    n= ncol(X)\n",
    "    if (p_order == 1){\n",
    "        sigma= var(error)\n",
    "    } else {\n",
    "        error_resized= error[, -c((n+1):dim(error)[1])]\n",
    "        sigma= var(error_resized)\n",
    "    }\n",
    "    p= t(chol(sigma))\n",
    "    return (p)\n",
    "}\n"
   ]
  },
  {
   "cell_type": "code",
   "execution_count": 13,
   "metadata": {
    "ExecuteTime": {
     "end_time": "2020-05-07T17:03:34.194573Z",
     "start_time": "2020-05-07T16:53:34.958Z"
    }
   },
   "outputs": [],
   "source": [
    "irf_compute= function(X, p_order, phi_matrix, horizon, vecteur_choc, p){\n",
    "    # Permet de calculer la réponse à un choc\n",
    "    # on récupère la première matrice phi pour calculer notre choc étant donné \n",
    "    # que le choc n'a lieu qu'à une période\n",
    "    IRF= c()\n",
    "    n= ncol(X)\n",
    "    e= vecteur_choc\n",
    "    \n",
    "    # Cas spécial pour un VAR 1\n",
    "    if (p_order == 1){\n",
    "        for (i in 1:horizon){\n",
    "            phi= phi_matrix^i\n",
    "            temp= phi%*%p%*%e\n",
    "            IRF= cbind(IRF, temp)\n",
    "        }\n",
    "    } else {\n",
    "        # On récupère la matrice phi 1 \n",
    "        new_phi= stock_test_phi[ ,-c((n+1):dim(stock_test_phi)[1])]\n",
    "        new_phi_first= new_phi[c(1:n), c(1:n)]\n",
    "\n",
    "        for (i in 1:horizon){\n",
    "            phi= new_phi_first^i\n",
    "            temp= phi%*%p%*%e\n",
    "            IRF= cbind(IRF, temp)\n",
    "        }\n",
    "    }\n",
    "    \n",
    "    return (IRF)\n",
    "}\n",
    "\n",
    "# test\n",
    "# horizon= 4\n",
    "# e= c(0, -0.05, 0)\n",
    "# p_mat= compute_choleski_p(computed_error, p_order)\n",
    "# irf_compute(data_matrix, p_order, stock_test_phi, horizon, e, p_mat)"
   ]
  },
  {
   "cell_type": "code",
   "execution_count": 14,
   "metadata": {
    "ExecuteTime": {
     "end_time": "2020-05-07T17:03:34.231082Z",
     "start_time": "2020-05-07T16:53:34.962Z"
    }
   },
   "outputs": [],
   "source": [
    "plot_irf= function(X, IRF){\n",
    "    # Permet de plot nos IRF\n",
    "        # X désigne notre dataset\n",
    "        # IRf repésente la matrice de dimension nxhorizon des chocs pour \n",
    "        # chaque série (n) sur les différentes périodes (horizon)\n",
    "    n= ncol(data_matrix)\n",
    "    \n",
    "    # Si le nombre de colonne est impair, alors j'ajoute une case vide dans layout\n",
    "    if ((n %% 2) == 0){\n",
    "        layout(matrix(1:n, n/2, n/2))\n",
    "    } else {\n",
    "        n_1= n + 1\n",
    "        layout(matrix(1:n_1, n_1/2, n_1/2))\n",
    "    }\n",
    "\n",
    "    for (i in 1:3){\n",
    "        plot(IRF[i,], main= colnames(X)[i], ylim= range(0, IRF)\n",
    "             , col= \"red\", pch= \"+\", cex= 1.5, ylab= \"IRF\", xlab= \"Horizon\")\n",
    "        grid(col= \"grey\")\n",
    "        lines(IRF[i,]*0, lty= 1, col= \"black\", lwd= 2)\n",
    "    }\n",
    "    \n",
    "}\n",
    "\n",
    "# # test\n",
    "# fig(10, 10)\n",
    "# plot_irf(data_matrix, irf_calculated)"
   ]
  },
  {
   "cell_type": "markdown",
   "metadata": {},
   "source": [
    "Avant de commencer l'analyse des chocs, il est important de comprendre que nous n'avons pas réussi à construire les intervalles de confiance. \n",
    "En effet, l'intervalle de confiance permet de créditer la véracité du choc : est-il statistiquement différent de zéro ?\n",
    "\n",
    "Nous avons essayé de mettre en place une méthode de **Block Bootstrapping** (du bootstrapping pour série temporelle, qui nous permet de créer des samples de données avec des blocks de 4 ou 5 observations regroupées au sein de la série initiale) ; mais cela ne s'est pas montré efficace à cause d'un temps de calcul beaucoup trop élevé. Vous pourrez néanmoins retrouvé en Annexe notre essai.\n",
    "\n",
    "Enfin, pour analyser l'impact d'un choc, il nous faut analyser le signe de la réponse, que l'on trouve en ordonnée. Dans notre cas, on verra que tous les chocs négatifs génèrent des réponses négatives."
   ]
  },
  {
   "cell_type": "code",
   "execution_count": 15,
   "metadata": {
    "ExecuteTime": {
     "end_time": "2020-05-07T17:03:48.664719Z",
     "start_time": "2020-05-07T16:53:34.965Z"
    }
   },
   "outputs": [
    {
     "name": "stdout",
     "output_type": "stream",
     "text": [
      "[1] \"Initialization with random parameters\"\n",
      "[1] \"Initialization with random parameters\"\n",
      "[1] \"Choc de -8% dans l'économie chinoise\"\n"
     ]
    },
    {
     "data": {
      "image/png": "[encoded data removed]",
      "text/plain": [
       "Plot with title \"Eurozone\""
      ]
     },
     "metadata": {},
     "output_type": "display_data"
    }
   ],
   "source": [
    "# test total calcul IRF pour ordre 7 et horizon 4\n",
    "p_order= 1\n",
    "horizon= 4\n",
    "e= c(-0.08, 0, 0)\n",
    "\n",
    "# Permet de calculer la matrice phi, de l'ordre 1 à p, pour faire la transformation var p à var 1\n",
    "stock_test_phi= phi_transforma(data_matrix, p_order)\n",
    "# Permet de calculer et de resizer le vecteur phi0 pour l'adapter à la transformation var p à var 1\n",
    "phi_zero= phi_zero_transforma(data_matrix, p_order)\n",
    "# Permet de calculer l'erreur dans le cas d'un var p (marche aussi en var 1)\n",
    "computed_error= error_transformation(data_matrix, p_order, stock_test_phi, phi_zero)\n",
    "# Calcul de la matrice p qui permet d'orthogonaliser mon système\n",
    "p_mat= compute_choleski_p(data_matrix, computed_error, p_order)\n",
    "# Calcul des chocs  jusqu'à l'horizon souhaité\n",
    "irf_calculated= irf_compute(data_matrix, p_order, stock_test_phi, horizon, e, p_mat)\n",
    "\n",
    "# On plot l'IRF que nous venons de calculer\n",
    "fig(10, 10)\n",
    "print(\"Choc de -8% dans l'économie chinoise\")\n",
    "plot_irf(data_matrix, irf_calculated)"
   ]
  },
  {
   "cell_type": "markdown",
   "metadata": {},
   "source": [
    "Le premier choc que l'on simule est celui d'une croissance négative en Chine de 8%. On sait que la Chine est l'usine du monde. On se rend bien compte actuellement (crise du COVID) que si la Chine stoppe son appareil productif, le monde arrête de consommer. Voir l'impact d'un tel choc sur les autres pays, notamment développés est donc d'un intérêt tout particulier. \n",
    "\n",
    "Dans notre cas, on voit bien que ce choc négatif sur la Chine ne semble pas se résorber sur les 4 périodes que l'on a considéré. Attention néanmoins, peut-être que les intervalles de confiance sont très larges et donc que ce choc se résorbe au bout d'une période ; on ne pourra pas le savoir. En tout cas ce qui est sûr c'est que ce choc impact fortement la Chine (normal!) mais aussi les Etats-Unis et la Zone Euro.\n",
    "\n",
    "Dans le cas des Etats-Unis, le choc est négatif et constant sur les 4 périodes que nous avons considéré (soit 1 an). De plus, on observe le même phénomène pour la Zone Euro. A vrai dire, nous avons l'impression que le choc de croissance de l'économie chinoise modifie durablement l'équilibre de croissance de la Zone Euro et des Etats-Unis.\n",
    "\n",
    "C'est ce que nous avons cherché à observer avec le calcul du choc sur 24 périodes, et on se rend compte, que pour les Etats-Unis, ce choc a bien modifié durablement la structure de son économie avec un choc négatif et constant. Mais ce n'est pas le cas pour la Zone Euro. Enfin, même la Chine a du mal à se remettre du choc.\n",
    "\n",
    "Attention, nous n'avons pas tracé les intervalles de confiance, donc nous ne sommes pas en mesure de vérifier la fiabilité des résultats. Dans le cas des Etats-Unis, il se pourrait même que l'intervalle de confiance soit tellement large que le choc soit tout le temps nul !\n",
    "\n",
    "En tout cas, on observe bien l'interconnexion des économies, et la diffusion des chocs d'un pays vers les autres."
   ]
  },
  {
   "cell_type": "code",
   "execution_count": 16,
   "metadata": {
    "ExecuteTime": {
     "end_time": "2020-05-07T17:03:48.890492Z",
     "start_time": "2020-05-07T16:53:34.968Z"
    }
   },
   "outputs": [
    {
     "name": "stdout",
     "output_type": "stream",
     "text": [
      "[1] \"Choc de -8% dans l'économie chinoise sur 24 périodes\"\n"
     ]
    },
    {
     "data": {
      "image/png": "[encoded data removed]",
      "text/plain": [
       "Plot with title \"Eurozone\""
      ]
     },
     "metadata": {},
     "output_type": "display_data"
    }
   ],
   "source": [
    "horizon= 24\n",
    "e= c(-0.08, 0, 0)\n",
    "irf_calculated= irf_compute(data_matrix, p_order, stock_test_phi, horizon, e, p_mat)\n",
    "\n",
    "# On plot l'IRF que nous venons de calculer\n",
    "fig(10, 10)\n",
    "print(\"Choc de -8% dans l'économie chinoise sur 24 périodes\")\n",
    "plot_irf(data_matrix, irf_calculated)"
   ]
  },
  {
   "cell_type": "code",
   "execution_count": 17,
   "metadata": {
    "ExecuteTime": {
     "end_time": "2020-05-07T17:03:49.091976Z",
     "start_time": "2020-05-07T16:53:34.974Z"
    }
   },
   "outputs": [
    {
     "name": "stdout",
     "output_type": "stream",
     "text": [
      "[1] \"Choc de -5% dans l'économie américaine\"\n"
     ]
    },
    {
     "data": {
      "image/png": "[encoded data removed]",
      "text/plain": [
       "Plot with title \"Eurozone\""
      ]
     },
     "metadata": {},
     "output_type": "display_data"
    }
   ],
   "source": [
    "horizon= 4\n",
    "e= c(0, -0.05, 0)\n",
    "irf_calculated= irf_compute(data_matrix, p_order, stock_test_phi, horizon, e, p_mat)\n",
    "\n",
    "# On plot l'IRF que nous venons de calculer\n",
    "fig(10, 10)\n",
    "print(\"Choc de -5% dans l'économie américaine\")\n",
    "plot_irf(data_matrix, irf_calculated)"
   ]
  },
  {
   "cell_type": "markdown",
   "metadata": {},
   "source": [
    "Voici un choc négatif de 5% sur la croissance américaine. Comme convenu, ce choc affecte sur 1 an l'économie américaine. Et quand on observe la diffusion du choc sur 24 trimestres, on remarque que l'impact ne disparaît pas au cours du temps. C'est probablement lié au fait que pour une économie développée, un choc de -5% est un énorme impact, et que ce dernier a dû profondément changer la structure de l'appareil productif américain. Ce qui peut sembler déroutant étant donné que l'économie américaine est une économie très libérale, par exemple son marché de l'emploi est très flexible par rapport à celui de la France, ce qui est censé lui permettre de se remettre plus rapidement d'une crise économique comme celle d'un gros choc négatif de croissance. Soit l'économie américaine a en effet énormément de mal à se remettre d'un choc aussi important, soit notre modèle est mal spécifié, et donc il aurait fallu soit augmenter l'ordre du VAR, soit, lors de la construction de nos fonctions de réponses, positioner la série des Etats-Unis différemment (actuellement deuxième position).\n",
    "\n",
    "Pour la Chine cependant, le choc ne semble impacter négativement que la première période. En effet, pour toutes les autres périodes, le choc est nul ; ce que l'on peut aussi voir sur un choc diffusé sur 24 périodes ci-dessous. \n",
    "\n",
    "Pour l'économie de la Zone Euro, on remarque le même phénomène que pour un choc provenant de la Chine avec un pic négatif à la deuxième période (probablement significatif), puis une convergence vers 0. La Zone Euro reçoit pleinement l'impact d'un choc avec un décalage de 1 trimestre par rapport aux deux autres économies. Puis le choc se nullifie au bout de 10 trimestres."
   ]
  },
  {
   "cell_type": "code",
   "execution_count": 18,
   "metadata": {
    "ExecuteTime": {
     "end_time": "2020-05-07T17:03:49.292916Z",
     "start_time": "2020-05-07T16:53:34.977Z"
    }
   },
   "outputs": [
    {
     "name": "stdout",
     "output_type": "stream",
     "text": [
      "[1] \"Choc de -5% dans l'économie américaine sur 24 périodes\"\n"
     ]
    },
    {
     "data": {
      "image/png": "[encoded data removed]",
      "text/plain": [
       "Plot with title \"Eurozone\""
      ]
     },
     "metadata": {},
     "output_type": "display_data"
    }
   ],
   "source": [
    "horizon= 24\n",
    "e= c(0, -0.05, 0)\n",
    "irf_calculated= irf_compute(data_matrix, p_order, stock_test_phi, horizon, e, p_mat)\n",
    "\n",
    "# On plot l'IRF que nous venons de calculer\n",
    "fig(10, 10)\n",
    "print(\"Choc de -5% dans l'économie américaine sur 24 périodes\")\n",
    "plot_irf(data_matrix, irf_calculated)"
   ]
  },
  {
   "cell_type": "code",
   "execution_count": 19,
   "metadata": {
    "ExecuteTime": {
     "end_time": "2020-05-07T17:03:49.499073Z",
     "start_time": "2020-05-07T16:53:34.980Z"
    }
   },
   "outputs": [
    {
     "name": "stdout",
     "output_type": "stream",
     "text": [
      "[1] \"Choc de -5% dans l'économie de la Zone Euro\"\n"
     ]
    },
    {
     "data": {
      "image/png": "[encoded data removed]",
      "text/plain": [
       "Plot with title \"Eurozone\""
      ]
     },
     "metadata": {},
     "output_type": "display_data"
    }
   ],
   "source": [
    "horizon= 4\n",
    "e= c(0, 0, -0.05)\n",
    "irf_calculated= irf_compute(data_matrix, p_order, stock_test_phi, horizon, e, p_mat)\n",
    "\n",
    "# On plot l'IRF que nous venons de calculer\n",
    "fig(10, 10)\n",
    "print(\"Choc de -5% dans l'économie de la Zone Euro\")\n",
    "plot_irf(data_matrix, irf_calculated)"
   ]
  },
  {
   "cell_type": "markdown",
   "metadata": {},
   "source": [
    "Enfin, voici l'impact d'un choc négatif de 5% sur l'économie de la Zone Euro. Dans un premier temps, on remarque que pour la Zone Euro, le choc est diffu au cours du temps, car plus les trimestres passent, moins le choc impacte négativement l'économie de la Zone Euro. Vers le 15ème trimestre, son impact est nullifié.\n",
    "\n",
    "A propos de la réception de ce choc par l'économie chinoise, il est négatif et on se rend compte qu'il disparaît après une période, (3 périodes pour les Etats-Unis). \n",
    "\n",
    "Ce choc est à la fois rapidement assimilié par la Zone euro, mais aussi pour les deux autres pays."
   ]
  },
  {
   "cell_type": "code",
   "execution_count": 20,
   "metadata": {
    "ExecuteTime": {
     "end_time": "2020-05-07T17:03:49.698586Z",
     "start_time": "2020-05-07T16:53:34.987Z"
    }
   },
   "outputs": [
    {
     "name": "stdout",
     "output_type": "stream",
     "text": [
      "[1] \"Choc de -5% dans l'économie américaine\"\n"
     ]
    },
    {
     "data": {
      "image/png": "[encoded data removed]",
      "text/plain": [
       "Plot with title \"Eurozone\""
      ]
     },
     "metadata": {},
     "output_type": "display_data"
    }
   ],
   "source": [
    "horizon= 24\n",
    "e= c(0, 0, -0.05)\n",
    "irf_calculated= irf_compute(data_matrix, p_order, stock_test_phi, horizon, e, p_mat)\n",
    "\n",
    "# On plot l'IRF que nous venons de calculer\n",
    "fig(10, 10)\n",
    "print(\"Choc de -5% dans l'économie américaine\")\n",
    "plot_irf(data_matrix, irf_calculated)"
   ]
  },
  {
   "cell_type": "markdown",
   "metadata": {},
   "source": [
    "<a id= \"4\"></a>\n",
    "\n",
    "### 4). Why is it important to estimate these second-round effects today?"
   ]
  },
  {
   "cell_type": "markdown",
   "metadata": {},
   "source": [
    "Dans quelle drôle d'époque vivons-nous ! Nous avons la possibilité d'acheter un objet provenant de Chine, tout en regardant une série américaine, bien au chaud dans notre lit à Paris. Dans cette drôle d'époque, les économies du monde entier sont interconnectées. Une catastrophe en Chine aura forcément un impact sur toutes les autres économies du monde. En effet, la Chine est à la fois l'usine du monde mais aussi un important partenaire commercial de beaucoup de pays, développés ou non. Et c'est la même chose pour les Etats-Unis et la Zone Euro.\n",
    "\n",
    "\n",
    "Prenons comme exemple une politique de relance keynesienne : celle de Mauroy de 1981. Cette politique peut se résumer par une hausse des salaires en France (SMIC, fonctionnaire). Elle s'est soldé par un échec et une hausse des déficits budgétaires et extérieurs, car isolée, cette politique n'avait pas pris en considération le fait que l'argent allait permettre d'acheter des biens produits à l'étranger (le fameux lecteur de cassette nippon) et non en France. Si on analysait ce choc de demande que représente la politique de Mauroy, peut-être pourrions nous remarquer un choc positif sur le taux de croissance japonais. C'est très similaire à la théorie du battement d'ailes d'un papillon.\n",
    "\n",
    "Voila pourquoi, construire des fonctions de réponse généralisée est nécessaire et si intéressant pour les économistes. C'est pour cela que nous avons voulu savoir si une récession importante dans un pays pouvait impacter l'économie d'un autre pays et pendant combien de temps. Plusieurs faits ont été soulevés par l'analyse des fonctions de réponse. Premièrement, une récession en Chine semble impacter sur plus de 24 trimestres le taux de croissance des Etats-Unis (avec un choc négatif constant). Le fait que la Chine soit un important partenaire commercial doit expliquer le puissant impact de la récession chinoise. \n",
    "La Zone Euro s'en remet beaucoup plus facilement, ce qui est étonnant, car comme les Etats-Unis, l'empire du Milieu est le deuxième exportateur de la Zone Euro. Evidemment, il n'y a pas que des liens d'exportation / importation qui relient des pays, on pourrait par exemple considérer la migration des personnes, mais aussi des capitaux pour expliquer cette différence. Ou sinon, c'est la réponse de l'Oncle Sam qui est aberrante, car si on regarde sur 24 périodes, la réponse de la Zone Euro disparaît au bout de 10 périodes, ce qui semble plutôt cohérent. De plus, nous savons par expérience que le marché du travail américain est beaucoup plus flexible que dans certain pays d'Europe ; par exemple on observait en 2008 un taux de chômage de près de 10%, contre 4% 2 ans plus tard. Cela lui permet de faire passer la tempête et de faire survivre ses entreprises plus longtemps. C'est aussi un de ses leviers pour générer une reprise rapide. C'est pourquoi une modification structurelle de l'économie américaine suite à une crise chinoise semble peu probable : l'intervalle de confiance que nous n'avons pas tracé doit assurément nullifié le choc sur plus de 10 périodes, tout comme en Europe.\n",
    "\n",
    "Deuxièmement, nous avons simuler un choc de -5% dans la croissance américaine, et nous avons observé le même problème qu'avec la réponse du choc chinois : le choc résonne sur toutes périodes que l'on trace (24 trimestres). La réponse de l'Empire du Milieu est pour le coup intéressante car le choc n'impacte que le premier trimestre de façon négative, puis disparaît. Enfin pour la Zone Euro, le choc est négatif et ceux jusqu'à 10 périodes environ.\n",
    "\n",
    "Cette réponse négative chinoise au choc américain semble similaire à un choc qui apparaîtrait en Zone Euro. Etant donné que l'Oncle Same et la Zone euro sont des marchés privilégiés pour la Chine, ce n'est pas étonant de voir apparaître une réponse négative. Mais, le fait qu'il disparaisse après 1 trimestre semble nous signaler que la Chine dissipe rapidement l'écho du choc, soit en ayant la possibilité d'exporter des biens ailleurs, soit les pays en crises ne penvent se passer des biens / capitaux chinois.\n",
    "\n",
    "Pour conclure, la situation actuelle nous semble bien différente de ces simulations étant donné que la crise sanitaire est un choc qui touche tous les pays, mais de façon retardée : la Chine en premier, l'Europe en deuxième puis finalement les Etats-Unis. En plus du choc, nous devons subir les echos des chocs (les réponses) : la crise en Chine a impacté le tourisme en France, le secteur du luxe, et donc bien avant de nous même subir la crise de plein fouet, nous y avons goûter par l'intermédiaire de la crise en Chine. C'etait alors la réponse de la France au choc de la crise de l'Empire du Milieu. Mais la France est aussi touchée par la crise sanitaire (télétravail , chômage partiel, confinement) ce qui rend à notre sens ardu de modéliser la crise et sa raisonnance avec un modèle VAR et ses fonctions de réponses."
   ]
  },
  {
   "cell_type": "markdown",
   "metadata": {},
   "source": [
    "<a id= \"a\"></a>\n",
    "\n",
    "### Annexes\n",
    "\n",
    "Voici notre tentative pour créer les intervalles de confiance pour les fonctions de réponses généralisées à l'aide de block bootstrapping."
   ]
  },
  {
   "cell_type": "code",
   "execution_count": 21,
   "metadata": {
    "ExecuteTime": {
     "end_time": "2020-05-07T17:03:49.765410Z",
     "start_time": "2020-05-07T16:53:34.995Z"
    }
   },
   "outputs": [
    {
     "data": {
      "text/html": [
       "<table>\n",
       "<thead><tr><th scope=col>China</th><th scope=col>USA</th><th scope=col>Eurozone</th></tr></thead>\n",
       "<tbody>\n",
       "\t<tr><td>0.091</td><td>0.053</td><td>0.045</td></tr>\n",
       "\t<tr><td>0.088</td><td>0.041</td><td>0.039</td></tr>\n",
       "\t<tr><td>0.075</td><td>0.030</td><td>0.034</td></tr>\n",
       "\t<tr><td>0.095</td><td>0.023</td><td>0.031</td></tr>\n",
       "\t<tr><td>0.086</td><td>0.011</td><td>0.023</td></tr>\n",
       "\t<tr><td>0.103</td><td>0.044</td><td>0.019</td></tr>\n",
       "</tbody>\n",
       "</table>\n"
      ],
      "text/latex": [
       "\\begin{tabular}{lll}\n",
       " China & USA & Eurozone\\\\\n",
       "\\hline\n",
       "\t 0.091 & 0.053 & 0.045\\\\\n",
       "\t 0.088 & 0.041 & 0.039\\\\\n",
       "\t 0.075 & 0.030 & 0.034\\\\\n",
       "\t 0.095 & 0.023 & 0.031\\\\\n",
       "\t 0.086 & 0.011 & 0.023\\\\\n",
       "\t 0.103 & 0.044 & 0.019\\\\\n",
       "\\end{tabular}\n"
      ],
      "text/markdown": [
       "\n",
       "| China | USA | Eurozone |\n",
       "|---|---|---|\n",
       "| 0.091 | 0.053 | 0.045 |\n",
       "| 0.088 | 0.041 | 0.039 |\n",
       "| 0.075 | 0.030 | 0.034 |\n",
       "| 0.095 | 0.023 | 0.031 |\n",
       "| 0.086 | 0.011 | 0.023 |\n",
       "| 0.103 | 0.044 | 0.019 |\n",
       "\n"
      ],
      "text/plain": [
       "     China USA   Eurozone\n",
       "[1,] 0.091 0.053 0.045   \n",
       "[2,] 0.088 0.041 0.039   \n",
       "[3,] 0.075 0.030 0.034   \n",
       "[4,] 0.095 0.023 0.031   \n",
       "[5,] 0.086 0.011 0.023   \n",
       "[6,] 0.103 0.044 0.019   "
      ]
     },
     "metadata": {},
     "output_type": "display_data"
    }
   ],
   "source": [
    "# calculons les intervalles de confiances pour les IRF\n",
    "# on va utiliser une méthode de block bootstrap\n",
    "# on va récupérer 95 % random lines de notre matrice\n",
    "# calculer les coeff, l'erreur centrée et recalculer les IRF\n",
    "# on va garder pour chaque période le max et le min pour chaque pays\n",
    "\n",
    "block_bootstrap= function(X, ic){\n",
    "    # Permet de générer un échantillon block bootstrapped\n",
    "    # Le block bootstrapping permet de faire du bootstrapping sur une série, et donc en récupérant\n",
    "    # des lignes proches.\n",
    "    # Avec un bootstrap classique, la série temp perdrait sa notion de temps et d'autocorr (lien intertemporel)\n",
    "        # X désigne notre dataset\n",
    "        # ic désigne la part des lignes du dataset que l'on va prendre \n",
    "        # pour générer ce block bootstrapped\n",
    "    m= nrow(X)\n",
    "    n= ncol(X)\n",
    "    ic= 95\n",
    "    num= floor(m*ic/100)\n",
    "\n",
    "    # permet de block bootstrap ma série\n",
    "    stocked_data= matrix(0, 1, n, byrow= T)\n",
    "    for (i in 1:num){\n",
    "        # On va récupérer 2 lignes avant et après la ligne que l'on a sélectionné et les ajouter\n",
    "        # à la suite\n",
    "        random_id= floor(runif(1, 3, m - 2)) # on commence à 3 car on récupère 2 index en amont\n",
    "                                             # et on finit à m - 2 car on récupère 2 lignes \n",
    "                                             # après l'id sélectionné aléatoirement\n",
    "        before_1= random_id -2\n",
    "        before= random_id - 1\n",
    "        after= random_id + 1\n",
    "        after_1= random_id + 2\n",
    "\n",
    "        select_val= c(before_1, before, random_id, after, after_1)\n",
    "        data_sample= X[select_val, ]\n",
    "\n",
    "        stocked_data= rbind(stocked_data, data_sample)\n",
    "    }\n",
    "    stocked_data= stocked_data[-1, ] # supprime la première ligne\n",
    "    \n",
    "    return (stocked_data)\n",
    "}\n",
    "head(block_bootstrap(data_matrix, 95))"
   ]
  },
  {
   "cell_type": "code",
   "execution_count": 22,
   "metadata": {
    "ExecuteTime": {
     "end_time": "2020-05-07T17:03:49.802308Z",
     "start_time": "2020-05-07T16:53:35.001Z"
    }
   },
   "outputs": [],
   "source": [
    "# p_order= 2\n",
    "# horizon= 4\n",
    "# e= c(-0.08, 0, 0)\n",
    "\n",
    "# # on génère le dataset bootstrap\n",
    "# data_bootstraped= block_bootstrap(data_matrix, 95)\n",
    "# # Permet de calculer la matrice phi, de l'ordre 1 à p, pour faire la transformation var p à var 1\n",
    "# stock_test_phi= phi_transforma(data_bootstraped, p_order)\n",
    "# # Permet de calculer et de resizer le vecteur phi0 pour l'adapter à la transformation var p à var 1\n",
    "# phi_zero= phi_zero_transforma(data_bootstraped, p_order)\n",
    "# # Permet de calculer l'erreur dans le cas d'un var p (marche aussi en var 1)\n",
    "# computed_error= error_transformation(data_bootstraped, p_order, stock_test_phi, phi_zero)\n",
    "\n",
    "# ############################################################\n",
    "# # on centre notre erreur\n",
    "# mean_error= t(as.matrix(colMeans(computed_error)))\n",
    "# mean_error_resized= matrix(mean_error, nrow(computed_error), ncol(mean_error), byrow= T)\n",
    "# centr_error= computed_error - mean_error_resized\n",
    "# centr_error_shuffle= centr_error[sample(nrow(centr_error)), ]\n",
    "\n",
    "# n= ncol(data_bootstraped)\n",
    "# propre_error= centr_error_shuffle[, c(1:n)]\n",
    "\n",
    "# # ajout de l'erreur à notre sample\n",
    "# prop_data_boots= data_bootstraped[-c(1:p_order), ] + propre_error\n",
    "# #############################################################\n",
    "\n",
    "# # On va à partir du dataset prop_data_boots"
   ]
  }
 ],
 "metadata": {
  "kernelspec": {
   "display_name": "Python 3",
   "language": "python",
   "name": "python3"
  },
  "language_info": {
   "codemirror_mode": {
    "name": "ipython",
    "version": 3
   },
   "file_extension": ".py",
   "mimetype": "text/x-python",
   "name": "python",
   "nbconvert_exporter": "python",
   "pygments_lexer": "ipython3",
   "version": "3.7.5"
  },
  "nteract": {
   "version": "0.22.4"
  }
 },
 "nbformat": 4,
 "nbformat_minor": 4
}
